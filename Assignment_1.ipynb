{
 "cells": [
  {
   "cell_type": "code",
   "execution_count": 59,
   "id": "d3d40f6e-b707-47d0-aa0d-7cdf03f40b3c",
   "metadata": {},
   "outputs": [],
   "source": [
    "f=open(\"sentences.txt\",\"r\");\n",
    "with open(\"sentence_analysis.txt\",\"w\") as r:\n",
    "\n",
    "    \n",
    "    for line in f:\n",
    "        c=0;\n",
    "        maxi=0;\n",
    "        pal=\"None\"\n",
    "        for word in line.split():\n",
    "            c=c+1;\n",
    "            if(len(word) > maxi):\n",
    "                maxi=len(word);\n",
    "                string=word;\n",
    "        \n",
    "        print(\"Sentence:\",line.rstrip(),file=r)\n",
    "        \n",
    "        print(\"Word Count: \",c,file=r);\n",
    "        print(\"Longest Word: \",string,file=r);\n",
    "        for word in line.split():\n",
    "            if(len(word)>1):\n",
    "                x=word[::-1]\n",
    "            \n",
    "                if(word.lower() == x.lower()):\n",
    "                    pal=word;\n",
    "        print(\"Palindromes: \",pal,\"\\n\",file=r);\n",
    "\n",
    "f.close();\n",
    "r.close();\n",
    "    \n",
    "   \n",
    "    "
   ]
  },
  {
   "cell_type": "code",
   "execution_count": null,
   "id": "d63eb24e-aa2f-49b5-ae84-48365a7f17a6",
   "metadata": {},
   "outputs": [],
   "source": []
  },
  {
   "cell_type": "code",
   "execution_count": null,
   "id": "af80cd3c-8ef8-4e11-b04d-ee73018a0c12",
   "metadata": {},
   "outputs": [],
   "source": []
  }
 ],
 "metadata": {
  "kernelspec": {
   "display_name": "Python 3 (ipykernel)",
   "language": "python",
   "name": "python3"
  },
  "language_info": {
   "codemirror_mode": {
    "name": "ipython",
    "version": 3
   },
   "file_extension": ".py",
   "mimetype": "text/x-python",
   "name": "python",
   "nbconvert_exporter": "python",
   "pygments_lexer": "ipython3",
   "version": "3.13.2"
  }
 },
 "nbformat": 4,
 "nbformat_minor": 5
}
